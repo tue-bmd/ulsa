{
 "cells": [
  {
   "cell_type": "code",
   "execution_count": null,
   "id": "66ec66e1",
   "metadata": {},
   "outputs": [],
   "source": [
    "import zea\n",
    "\n",
    "zea.init_device()\n",
    "zea.visualize.set_mpl_style()\n",
    "\n",
    "from ulsa.ops import AntiAliasing\n",
    "from active_sampling_temporal import preload_data\n",
    "import matplotlib.pyplot as plt\n",
    "import keras"
   ]
  },
  {
   "cell_type": "code",
   "execution_count": null,
   "id": "8f87efb0",
   "metadata": {},
   "outputs": [],
   "source": [
    "file = zea.File(\"/mnt/USBMD_datasets/2024_USBMD_cardiac_S51/HDF5/20240701_P1_A4CH_0001.hdf5\")\n",
    "dynamic_range=(-70, -28)\n",
    "validation_sample_frames, scan, probe = preload_data(file, 30, \"data/raw_data\", cardiac=True, dynamic_range=dynamic_range)"
   ]
  },
  {
   "cell_type": "code",
   "execution_count": null,
   "id": "1884b890",
   "metadata": {},
   "outputs": [],
   "source": [
    "pipeline = zea.Pipeline.from_default(\n",
    "    with_batch_dim=False,\n",
    "    num_patches=40,\n",
    "    pfield=False,\n",
    "    jit_options=None\n",
    ")\n",
    "pipeline.append(zea.ops.Lambda(keras.ops.expand_dims, {\"axis\": -1}))\n",
    "resize = zea.ops.Lambda(\n",
    "    keras.ops.image.resize,\n",
    "    {\n",
    "        \"size\": (112, 90),\n",
    "        \"interpolation\": \"bilinear\",\n",
    "        \"antialias\": True,  # TODO: different way of antialiasing?\n",
    "    },\n",
    ")\n",
    "pipeline.append(resize)\n",
    "# pipeline.append(zea.ops.ScanConvert(order=0))\n",
    "\n",
    "scan.resolution = 0.0001\n",
    "parameters = pipeline.prepare_parameters(probe, scan)\n",
    "output = pipeline(data=validation_sample_frames[0], **parameters)\n",
    "image_orig = output[\"data\"]\n",
    "plt.imshow(image_orig, cmap=\"gray\", vmin=dynamic_range[0], vmax=dynamic_range[1])"
   ]
  },
  {
   "cell_type": "code",
   "execution_count": null,
   "id": "2b12cbc3",
   "metadata": {},
   "outputs": [],
   "source": [
    "pipeline = zea.Pipeline.from_default(\n",
    "    with_batch_dim=False,\n",
    "    num_patches=40,\n",
    "    pfield=False,\n",
    "    jit_options=None\n",
    ")\n",
    "pipeline.insert(1, zea.ops.Downsample(4))\n",
    "pipeline.append(zea.ops.Lambda(keras.ops.expand_dims, {\"axis\": -1}))\n",
    "resize = zea.ops.Lambda(\n",
    "    keras.ops.image.resize,\n",
    "    {\n",
    "        \"size\": (112, 90),\n",
    "        \"interpolation\": \"bilinear\",\n",
    "        \"antialias\": True,  # TODO: different way of antialiasing?\n",
    "    },\n",
    ")\n",
    "pipeline.append(resize)\n",
    "\n",
    "scan.resolution = 0.0001\n",
    "parameters = pipeline.prepare_parameters(probe, scan)\n",
    "output = pipeline(data=validation_sample_frames[0], **parameters)\n",
    "image1 = output[\"data\"]\n",
    "plt.imshow(image1, cmap=\"gray\", vmin=dynamic_range[0], vmax=dynamic_range[1])"
   ]
  },
  {
   "cell_type": "code",
   "execution_count": null,
   "id": "9817d2e1",
   "metadata": {},
   "outputs": [],
   "source": [
    "pipeline = zea.Pipeline.from_default(\n",
    "    with_batch_dim=False,\n",
    "    num_patches=40,\n",
    "    pfield=False,\n",
    "    jit_options=None\n",
    ")\n",
    "pipeline.insert(1, AntiAliasing(num_taps=32))\n",
    "pipeline.insert(2, zea.ops.Downsample(4))\n",
    "pipeline.append(zea.ops.Lambda(keras.ops.expand_dims, {\"axis\": -1}))\n",
    "resize = zea.ops.Lambda(\n",
    "    keras.ops.image.resize,\n",
    "    {\n",
    "        \"size\": (112, 90),\n",
    "        \"interpolation\": \"bilinear\",\n",
    "        \"antialias\": True,  # TODO: different way of antialiasing?\n",
    "    },\n",
    ")\n",
    "pipeline.append(resize)\n",
    "# pipeline.append(zea.ops.ScanConvert(order=0))\n",
    "\n",
    "scan.resolution = 0.0001\n",
    "scan.n_z = 128\n",
    "parameters = pipeline.prepare_parameters(probe, scan)\n",
    "output = pipeline(data=validation_sample_frames[0], **parameters, factor=keras.ops.array(6))\n",
    "image2 = output[\"data\"]\n",
    "plt.imshow(image2, cmap=\"gray\", vmin=dynamic_range[0], vmax=dynamic_range[1])"
   ]
  },
  {
   "cell_type": "code",
   "execution_count": null,
   "id": "2759b3dc",
   "metadata": {},
   "outputs": [],
   "source": [
    "fig, axs = plt.subplots(1, 3, figsize=(10, 5))\n",
    "axs[0].imshow(image_orig, cmap=\"gray\", vmin=dynamic_range[0], vmax=dynamic_range[1])\n",
    "axs[0].set_title(\"Original\")\n",
    "axs[1].imshow(image1, cmap=\"gray\", vmin=dynamic_range[0], vmax=dynamic_range[1])\n",
    "axs[1].set_title(\"With Downsample\")\n",
    "axs[2].imshow(image2, cmap=\"gray\", vmin=dynamic_range[0], vmax=dynamic_range[1])\n",
    "axs[2].set_title(\"With AntiAliasing\")"
   ]
  }
 ],
 "metadata": {
  "kernelspec": {
   "display_name": "Python 3",
   "language": "python",
   "name": "python3"
  },
  "language_info": {
   "codemirror_mode": {
    "name": "ipython",
    "version": 3
   },
   "file_extension": ".py",
   "mimetype": "text/x-python",
   "name": "python",
   "nbconvert_exporter": "python",
   "pygments_lexer": "ipython3",
   "version": "3.12.11"
  }
 },
 "nbformat": 4,
 "nbformat_minor": 5
}

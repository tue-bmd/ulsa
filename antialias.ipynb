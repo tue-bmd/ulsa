{
 "cells": [
  {
   "cell_type": "code",
   "execution_count": null,
   "id": "66ec66e1",
   "metadata": {},
   "outputs": [],
   "source": [
    "import zea\n",
    "\n",
    "zea.init_device()\n",
    "zea.visualize.set_mpl_style()\n",
    "\n",
    "from ulsa.ops import LowPassFilter, WaveletDenoise, wavelet_denoise_rf\n",
    "from active_sampling_temporal import preload_data\n",
    "import matplotlib.pyplot as plt\n",
    "import keras\n",
    "from tqdm import tqdm\n",
    "import jax.numpy as jnp\n",
    "import numpy as np\n",
    "import pywt\n",
    "import matplotlib.pyplot as plt"
   ]
  },
  {
   "cell_type": "code",
   "execution_count": null,
   "id": "a31ee3a0",
   "metadata": {},
   "outputs": [],
   "source": [
    "def scan_sequence(data, pipeline, parameters, keep_keys=None, **kwargs):\n",
    "    \"\"\"\n",
    "    Process a sequence of data frames through the pipeline.\n",
    "    \"\"\"\n",
    "    if keep_keys is None:\n",
    "        keep_keys = []\n",
    "    images = []\n",
    "    for raw_data in tqdm(data):\n",
    "        output = pipeline(data=raw_data, **parameters, **kwargs)\n",
    "        for key in keep_keys:\n",
    "            if key in output:\n",
    "                kwargs[key] = output[key]\n",
    "        images.append(keras.ops.convert_to_numpy(output[\"data\"]))\n",
    "    return keras.ops.stack(images, axis=0)"
   ]
  },
  {
   "cell_type": "code",
   "execution_count": null,
   "id": "9faf5adc",
   "metadata": {},
   "outputs": [],
   "source": [
    "def imshow(X, *args, scan=None, **kwargs):\n",
    "    \"\"\"Display an image using matplotlib's imshow.\n",
    "\n",
    "    Will use zea's default style and set the extent (in mm), vmin, and vmax\n",
    "    based on the provided scan object if available.\n",
    "\n",
    "    Args:\n",
    "        X (np.ndarray): The image to display.\n",
    "        *args: Additional positional arguments for plt.imshow.\n",
    "        scan (zea.Scan, optional): A scan object containing metadata.\n",
    "            If provided, it will be used to set the extent, vmin, and vmax of the image.\n",
    "        **kwargs: Additional keyword arguments for plt.imshow.\n",
    "    \"\"\"\n",
    "    extent = kwargs.pop(\"extent\", scan.extent * 1e3 if scan is not None else None)\n",
    "    cmap = kwargs.pop(\"cmap\", \"gray\" if X.ndim == 2 else plt.rcParams[\"image.cmap\"])\n",
    "    vmin = kwargs.pop(\"vmin\", scan.dynamic_range[0] if scan is not None else None)\n",
    "    vmax = kwargs.pop(\"vmax\", scan.dynamic_range[1] if scan is not None else None)\n",
    "\n",
    "    return plt.imshow(X, *args, **kwargs, extent=extent, cmap=cmap, vmin=vmin, vmax=vmax)"
   ]
  },
  {
   "cell_type": "code",
   "execution_count": null,
   "id": "8f87efb0",
   "metadata": {},
   "outputs": [],
   "source": [
    "file = zea.File(\"/mnt/USBMD_datasets/2024_USBMD_cardiac_S51/HDF5/20240701_P3_PLAX_0000.hdf5\")\n",
    "dynamic_range = (-70, -18)\n",
    "validation_sample_frames, scan, probe = preload_data(file, 30, \"data/raw_data\", cardiac=True, dynamic_range=dynamic_range)"
   ]
  },
  {
   "cell_type": "code",
   "execution_count": null,
   "id": "93cfc5d8",
   "metadata": {},
   "outputs": [],
   "source": [
    "def raw_to_fft(raw_data, fs):\n",
    "    fft = jnp.fft.fft(raw_data, axis=-2)\n",
    "    fft = jnp.fft.fftshift(fft, axes=-2)\n",
    "    fft = jnp.abs(fft)\n",
    "    fft_std = jnp.std(fft, axis=(-3, -1))\n",
    "    fft = jnp.mean(fft, axis=(-3, -1))\n",
    "    fft = 20*jnp.log10(fft + 1e-9)  # add small\n",
    "    fft_std = 20*jnp.log10(fft_std + 1e-9) / 4  # add small value to avoid log(0)\n",
    "    x = jnp.linspace(-fs / 2, fs / 2, fft.shape[0]) / 1e6  # convert to MHz\n",
    "    plt.plot(x, fft)\n",
    "    # plt.fill_between(x, fft - fft_std, fft + fft_std, alpha=0.2)\n",
    "    plt.xlabel(\"Frequency (MHz)\")\n",
    "    plt.ylabel(\"Amplitude (dB)\")"
   ]
  },
  {
   "cell_type": "code",
   "execution_count": null,
   "id": "2a980cb6",
   "metadata": {},
   "outputs": [],
   "source": [
    "# visualize frequency spectrum\n",
    "output = dict(\n",
    "    # data=wavelet_denoise_full(validation_sample_frames[0], axis=-3),\n",
    "    data=validation_sample_frames[0],\n",
    "    center_frequency=scan.center_frequency,\n",
    "    sampling_frequency=scan.sampling_frequency,\n",
    "    n_ax=scan.n_ax,\n",
    ")\n",
    "output = zea.ops.Demodulate()(**output)\n",
    "output[\"center_frequency\"] = 0\n",
    "# output = zea.ops.Downsample(2)(**output)\n",
    "output = zea.ops.ChannelsToComplex()(**output)\n",
    "# output[\"center_frequency\"] = -1e6\n",
    "output_aa = LowPassFilter(num_taps=128,axis=-2)(**output, bandwidth=2e6)\n",
    "raw_aa = output_aa[\"data\"]\n",
    "fs = output[\"sampling_frequency\"]\n",
    "\n",
    "plt.figure()\n",
    "raw_to_fft(output[\"data\"], fs)\n",
    "raw_to_fft(raw_aa, fs)"
   ]
  },
  {
   "cell_type": "code",
   "execution_count": null,
   "id": "1884b890",
   "metadata": {},
   "outputs": [],
   "source": [
    "pipeline = zea.Pipeline.from_default(\n",
    "    with_batch_dim=False,\n",
    "    num_patches=40,\n",
    "    pfield=False,\n",
    "    jit_options=\"ops\"\n",
    ")\n",
    "pipeline.append(zea.ops.ScanConvert(order=1))\n",
    "\n",
    "parameters = pipeline.prepare_parameters(probe, scan)\n",
    "output = pipeline(data=validation_sample_frames[0], **parameters)\n",
    "image_orig = output[\"data\"]\n",
    "imshow(image_orig, scan=scan)\n",
    "# images = scan_sequence(validation_sample_frames, pipeline, parameters, bandwidth=2e6)\n",
    "# images = zea.display.to_8bit(images, dynamic_range=scan.dynamic_range, pillow=False)\n",
    "# zea.utils.save_to_gif(images, \"test0.gif\", 20)"
   ]
  },
  {
   "cell_type": "code",
   "execution_count": null,
   "id": "9817d2e1",
   "metadata": {},
   "outputs": [],
   "source": [
    "pipeline = zea.Pipeline(\n",
    "    [\n",
    "        WaveletDenoise(),\n",
    "        zea.ops.Demodulate(),\n",
    "        LowPassFilter(num_taps=128, complex_channels=True, axis=-2),\n",
    "        zea.ops.Downsample(2),\n",
    "        zea.ops.PatchedGrid(\n",
    "            [\n",
    "                zea.ops.TOFCorrection(),\n",
    "                zea.ops.DelayAndSum(),\n",
    "            ]\n",
    "        ),\n",
    "        zea.ops.EnvelopeDetect(),\n",
    "        zea.ops.Normalize(),\n",
    "        zea.ops.LogCompress(),\n",
    "        zea.ops.ScanConvert(order=1),\n",
    "    ],\n",
    "    with_batch_dim=False,\n",
    ")\n",
    "\n",
    "parameters = pipeline.prepare_parameters(probe, scan)\n",
    "output = pipeline(data=validation_sample_frames[0], **parameters, bandwidth=2e6)\n",
    "image2 = output[\"data\"]\n",
    "plt.figure()\n",
    "imshow(image2, scan=scan)\n",
    "# images = scan_sequence(validation_sample_frames, pipeline, parameters, bandwidth=2e6)\n",
    "# images = zea.display.to_8bit(images, dynamic_range=scan.dynamic_range, pillow=False)\n",
    "# zea.utils.save_to_gif(images, \"test1.gif\", 20)"
   ]
  },
  {
   "cell_type": "code",
   "execution_count": null,
   "id": "2759b3dc",
   "metadata": {},
   "outputs": [],
   "source": [
    "fig, axs = plt.subplots(1, 2, figsize=(20, 20))\n",
    "axs[0].imshow(image_orig, cmap=\"gray\", vmin=dynamic_range[0], vmax=dynamic_range[1])\n",
    "axs[0].set_title(\"Original\")\n",
    "axs[1].imshow(image2, cmap=\"gray\", vmin=dynamic_range[0], vmax=dynamic_range[1])\n",
    "axs[1].set_title(\"With lpf and denoising in rf\")"
   ]
  },
  {
   "cell_type": "code",
   "execution_count": null,
   "id": "5f908a60",
   "metadata": {},
   "outputs": [],
   "source": [
    "# Load or generate sample RF data\n",
    "rf_signal = validation_sample_frames[0,0,:,0,0][:500]\n",
    "# Denoise\n",
    "denoised_rf = wavelet_denoise_rf(rf_signal, level=4, wavelet='sym8', threshold_factor=0.5)\n",
    "\n",
    "# Plot\n",
    "plt.figure(figsize=(12, 5))\n",
    "plt.plot(rf_signal, label='Noisy RF', alpha=0.5)\n",
    "plt.plot(denoised_rf, label='Denoised RF', linewidth=2)\n",
    "plt.legend()\n",
    "plt.title('Wavelet Denoising of RF Ultrasound Signal')\n",
    "plt.show()\n"
   ]
  }
 ],
 "metadata": {
  "kernelspec": {
   "display_name": "Python 3",
   "language": "python",
   "name": "python3"
  },
  "language_info": {
   "codemirror_mode": {
    "name": "ipython",
    "version": 3
   },
   "file_extension": ".py",
   "mimetype": "text/x-python",
   "name": "python",
   "nbconvert_exporter": "python",
   "pygments_lexer": "ipython3",
   "version": "3.12.11"
  }
 },
 "nbformat": 4,
 "nbformat_minor": 5
}

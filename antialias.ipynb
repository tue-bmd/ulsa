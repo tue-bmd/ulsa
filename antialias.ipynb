{
 "cells": [
  {
   "cell_type": "code",
   "execution_count": null,
   "id": "66ec66e1",
   "metadata": {},
   "outputs": [],
   "source": [
    "import zea\n",
    "\n",
    "zea.init_device()\n",
    "zea.visualize.set_mpl_style()\n",
    "\n",
    "from ulsa.ops import AntiAliasing\n",
    "from active_sampling_temporal import preload_data\n",
    "import matplotlib.pyplot as plt\n",
    "import keras\n",
    "from tqdm import tqdm\n",
    "import jax.numpy as jnp"
   ]
  },
  {
   "cell_type": "code",
   "execution_count": null,
   "id": "a31ee3a0",
   "metadata": {},
   "outputs": [],
   "source": [
    "def scan_sequence(data, pipeline, parameters, keep_keys=None, **kwargs):\n",
    "    \"\"\"\n",
    "    Process a sequence of data frames through the pipeline.\n",
    "    \"\"\"\n",
    "    if keep_keys is None:\n",
    "        keep_keys = []\n",
    "    images = []\n",
    "    for raw_data in tqdm(data):\n",
    "        output = pipeline(data=raw_data, **parameters, **kwargs)\n",
    "        for key in keep_keys:\n",
    "            if key in output:\n",
    "                kwargs[key] = output[key]\n",
    "        images.append(keras.ops.convert_to_numpy(output[\"data\"]))\n",
    "    return keras.ops.stack(images, axis=0)"
   ]
  },
  {
   "cell_type": "code",
   "execution_count": null,
   "id": "8f87efb0",
   "metadata": {},
   "outputs": [],
   "source": [
    "file = zea.File(\"/mnt/USBMD_datasets/2024_USBMD_cardiac_S51/HDF5/20240701_P1_A4CH_0001.hdf5\")\n",
    "dynamic_range=(-70, -28)\n",
    "validation_sample_frames, scan, probe = preload_data(file, 30, \"data/raw_data\", cardiac=True, dynamic_range=dynamic_range)"
   ]
  },
  {
   "cell_type": "code",
   "execution_count": null,
   "id": "2a980cb6",
   "metadata": {},
   "outputs": [],
   "source": [
    "# visualize frequency spectrum\n",
    "output = dict(\n",
    "    data=validation_sample_frames[0],\n",
    "    center_frequency=scan.center_frequency,\n",
    "    sampling_frequency=scan.sampling_frequency,\n",
    "    n_ax=scan.n_ax,\n",
    ")\n",
    "output = zea.ops.Demodulate()(**output)\n",
    "output = AntiAliasing(axis=-2, complex_channels=True)(**output, bandwidth=4e6)\n",
    "output = zea.ops.Downsample(2)(**output)\n",
    "raw_data = output[\"data\"]\n",
    "fs = output[\"sampling_frequency\"]\n",
    "\n",
    "fft = jnp.fft.fft(raw_data, axis=-3)\n",
    "fft = jnp.fft.fftshift(fft, axes=-3)\n",
    "fft = jnp.abs(fft)\n",
    "fft_std = jnp.std(fft, axis=(-4, -2, -1))\n",
    "fft = jnp.mean(fft, axis=(-4, -2, -1))\n",
    "fft = jnp.log10(fft + 1e-9)  # add small\n",
    "fft_std = jnp.log10(fft_std + 1e-9) / 4  # add small value to avoid log(0)\n",
    "x = jnp.linspace(-fs / 2, fs / 2, fft.shape[0]) / 1e6  # convert to MHz\n",
    "plt.figure()\n",
    "plt.plot(x, fft)\n",
    "plt.fill_between(x, fft - fft_std, fft + fft_std, alpha=0.2)\n",
    "plt.xlabel(\"Frequency (MHz)\")\n",
    "plt.ylabel(\"Log10 Amplitude\")"
   ]
  },
  {
   "cell_type": "code",
   "execution_count": null,
   "id": "1884b890",
   "metadata": {},
   "outputs": [],
   "source": [
    "pipeline = zea.Pipeline.from_default(\n",
    "    with_batch_dim=False,\n",
    "    num_patches=40,\n",
    "    pfield=False,\n",
    "    jit_options=\"ops\"\n",
    ")\n",
    "pipeline.append(zea.ops.ScanConvert(order=1))\n",
    "\n",
    "parameters = pipeline.prepare_parameters(probe, scan)\n",
    "output = pipeline(data=validation_sample_frames[0], **parameters)\n",
    "image_orig = output[\"data\"]\n",
    "zea.visualize.imshow(image_orig, scan=scan)"
   ]
  },
  {
   "cell_type": "code",
   "execution_count": null,
   "id": "2b12cbc3",
   "metadata": {},
   "outputs": [],
   "source": [
    "pipeline = zea.Pipeline.from_default(\n",
    "    with_batch_dim=False,\n",
    "    num_patches=40,\n",
    "    pfield=False,\n",
    "    jit_options=\"ops\"\n",
    ")\n",
    "pipeline.insert(1, zea.ops.Downsample(3))\n",
    "pipeline.append(zea.ops.ScanConvert(order=1))\n",
    "\n",
    "scan.dynamic_range = (-70, -28)\n",
    "parameters = pipeline.prepare_parameters(probe, scan)\n",
    "output = pipeline(data=validation_sample_frames[0], **parameters)\n",
    "image1 = output[\"data\"]\n",
    "zea.visualize.imshow(image1, scan=scan)\n",
    "images = scan_sequence(validation_sample_frames, pipeline, parameters, bandwidth=2e6)\n",
    "images = zea.display.to_8bit(images, dynamic_range=scan.dynamic_range, pillow=False)\n",
    "zea.utils.save_to_gif(images, \"test1.gif\", 20)"
   ]
  },
  {
   "cell_type": "code",
   "execution_count": null,
   "id": "9817d2e1",
   "metadata": {},
   "outputs": [],
   "source": [
    "import warnings\n",
    "warnings.filterwarnings(\"error\", category=jnp.ComplexWarning)\n",
    "\n",
    "pipeline = zea.Pipeline.from_default(\n",
    "    with_batch_dim=False,\n",
    "    num_patches=40,\n",
    "    pfield=True,\n",
    "    jit_options=\"ops\"\n",
    ")\n",
    "pipeline.insert(1, AntiAliasing(num_taps=32, complex_channels=True, axis=-2))\n",
    "pipeline.insert(2, zea.ops.Downsample(2))\n",
    "# pipeline.append(zea.ops.Lambda(lambda x: x[..., None]))\n",
    "# pipeline.append(zea.ops.LeeFilter(sigma=1))\n",
    "# pipeline.append(zea.ops.Lambda(lambda x: keras.ops.squeeze(x, axis=-1)))\n",
    "pipeline.append(zea.ops.ScanConvert(order=1))\n",
    "\n",
    "scan.dynamic_range = (-70, -28)\n",
    "parameters = pipeline.prepare_parameters(probe, scan)\n",
    "output = pipeline(data=validation_sample_frames[0], **parameters, bandwidth=2e6)\n",
    "image2 = output[\"data\"]\n",
    "zea.visualize.imshow(image2, scan=scan)"
   ]
  },
  {
   "cell_type": "code",
   "execution_count": null,
   "id": "c0273a0f",
   "metadata": {},
   "outputs": [],
   "source": [
    "images = scan_sequence(validation_sample_frames, pipeline, parameters, bandwidth=2e6)\n",
    "images = zea.display.to_8bit(images, dynamic_range=scan.dynamic_range, pillow=False)\n",
    "zea.utils.save_to_gif(images, \"test2.gif\", 20)"
   ]
  },
  {
   "cell_type": "code",
   "execution_count": null,
   "id": "2759b3dc",
   "metadata": {},
   "outputs": [],
   "source": [
    "fig, axs = plt.subplots(1, 3, figsize=(20, 20))\n",
    "axs[0].imshow(image_orig, cmap=\"gray\", vmin=dynamic_range[0], vmax=dynamic_range[1])\n",
    "axs[0].set_title(\"Original\")\n",
    "axs[1].imshow(image1, cmap=\"gray\", vmin=dynamic_range[0], vmax=dynamic_range[1])\n",
    "axs[1].set_title(\"With Downsample\")\n",
    "axs[2].imshow(image2, cmap=\"gray\", vmin=dynamic_range[0], vmax=dynamic_range[1])\n",
    "axs[2].set_title(\"With AntiAliasing\")"
   ]
  }
 ],
 "metadata": {
  "kernelspec": {
   "display_name": "Python 3",
   "language": "python",
   "name": "python3"
  },
  "language_info": {
   "codemirror_mode": {
    "name": "ipython",
    "version": 3
   },
   "file_extension": ".py",
   "mimetype": "text/x-python",
   "name": "python",
   "nbconvert_exporter": "python",
   "pygments_lexer": "ipython3",
   "version": "3.12.11"
  }
 },
 "nbformat": 4,
 "nbformat_minor": 5
}

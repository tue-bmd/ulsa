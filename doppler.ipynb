{
 "cells": [
  {
   "cell_type": "code",
   "execution_count": null,
   "id": "e27aafe7",
   "metadata": {},
   "outputs": [],
   "source": [
    "import numpy as np\n",
    "from keras import ops\n",
    "import matplotlib.pyplot as plt\n",
    "\n",
    "import zea\n",
    "from ulsa.ops import iq2doppler,tissue_doppler_strain_rate\n",
    "\n",
    "zea.init_device()"
   ]
  },
  {
   "cell_type": "code",
   "execution_count": null,
   "id": "d81e887d",
   "metadata": {},
   "outputs": [],
   "source": [
    "from matplotlib import animation\n",
    "from IPython.display import HTML\n",
    "\n",
    "def animate_images(images, scan, interval=100, cmap=\"gray\"):\n",
    "    \"\"\"Helper function to animate a list of images.\"\"\"\n",
    "    fig, ax = plt.subplots()\n",
    "    xlims_mm = [v * 1e3 for v in scan.xlims]\n",
    "    zlims_mm = [v * 1e3 for v in scan.zlims]\n",
    "    im = ax.imshow(\n",
    "        np.array(images[0]),\n",
    "        animated=True,\n",
    "        cmap=cmap,\n",
    "        extent=[xlims_mm[0], xlims_mm[1], zlims_mm[1], zlims_mm[0]],\n",
    "    )\n",
    "    ax.set_xlabel(\"X (mm)\")\n",
    "    ax.set_ylabel(\"Z (mm)\")\n",
    "\n",
    "    def update(frame):\n",
    "        im.set_array(np.array(images[frame]))\n",
    "        return [im]\n",
    "\n",
    "    ani = animation.FuncAnimation(fig, update, frames=len(images), blit=True, interval=interval)\n",
    "    plt.close(fig)\n",
    "    return HTML(ani.to_jshtml())"
   ]
  },
  {
   "cell_type": "code",
   "execution_count": null,
   "id": "4d935024",
   "metadata": {},
   "outputs": [],
   "source": [
    "path = \"/mnt/USBMD_datasets/2023_USBMD_rotating_disc_L115v/L115V_1radsec.hdf5\"\n",
    "with zea.File(path) as file:\n",
    "    data = file.load_data(\"raw_data\")\n",
    "    scan = file.scan()\n",
    "    probe = file.probe()"
   ]
  },
  {
   "cell_type": "code",
   "execution_count": null,
   "id": "7d785cde",
   "metadata": {},
   "outputs": [],
   "source": [
    "pipeline = zea.Pipeline.from_default(with_batch_dim=True)\n",
    "params = pipeline.prepare_parameters(probe, scan)\n",
    "output = pipeline(data=data, **params)\n",
    "bmode = output[\"data\"]"
   ]
  },
  {
   "cell_type": "code",
   "execution_count": null,
   "id": "4bc9c239",
   "metadata": {},
   "outputs": [],
   "source": [
    "animate_images(bmode, scan)"
   ]
  },
  {
   "cell_type": "code",
   "execution_count": null,
   "id": "6090dbba",
   "metadata": {},
   "outputs": [],
   "source": [
    "pipeline = zea.Pipeline(\n",
    "    [\n",
    "        zea.ops.Demodulate(),\n",
    "        zea.ops.PatchedGrid(\n",
    "            [zea.ops.TOFCorrection(), zea.ops.DelayAndSum()], num_patches=10\n",
    "        ),\n",
    "        zea.ops.ChannelsToComplex(),\n",
    "    ],\n",
    "    jit_options=\"pipeline\",\n",
    ")"
   ]
  },
  {
   "cell_type": "code",
   "execution_count": null,
   "id": "4da816aa",
   "metadata": {},
   "outputs": [],
   "source": [
    "transmits = \"all\"\n",
    "scan.set_transmits(transmits)\n",
    "params = pipeline.prepare_parameters(probe, scan)\n",
    "output = pipeline(data=data[:, scan.selected_transmits], **params)\n",
    "data4doppler = output[\"data\"]\n",
    "data4doppler = ops.moveaxis(data4doppler, 0, -1)"
   ]
  },
  {
   "cell_type": "code",
   "execution_count": null,
   "id": "1d1c01e5",
   "metadata": {},
   "outputs": [],
   "source": [
    "pulse_repetition_frequency = 1 / sum(scan.time_to_next_transmit[0])\n",
    "d = iq2doppler(data4doppler[..., :], probe.center_frequency, pulse_repetition_frequency, scan.sound_speed, hamming_size=10)\n",
    "plt.imshow(d, cmap=\"bwr\")\n",
    "plt.colorbar()"
   ]
  },
  {
   "cell_type": "code",
   "execution_count": null,
   "id": "a9ec68a1",
   "metadata": {},
   "outputs": [],
   "source": [
    "spacing = (scan.zlims[1] - scan.zlims[0]) / (scan.n_z - 1)\n",
    "strain_rate = tissue_doppler_strain_rate(ops.convert_to_numpy(d), axis=0, spacing=spacing, method=\"central\")\n",
    "plt.imshow(strain_rate, cmap=\"seismic\")\n",
    "plt.colorbar()"
   ]
  }
 ],
 "metadata": {
  "kernelspec": {
   "display_name": "Python 3",
   "language": "python",
   "name": "python3"
  },
  "language_info": {
   "codemirror_mode": {
    "name": "ipython",
    "version": 3
   },
   "file_extension": ".py",
   "mimetype": "text/x-python",
   "name": "python",
   "nbconvert_exporter": "python",
   "pygments_lexer": "ipython3",
   "version": "3.12.11"
  }
 },
 "nbformat": 4,
 "nbformat_minor": 5
}
